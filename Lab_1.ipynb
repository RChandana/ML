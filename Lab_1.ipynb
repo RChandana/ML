{
  "nbformat": 4,
  "nbformat_minor": 0,
  "metadata": {
    "colab": {
      "provenance": [],
      "authorship_tag": "ABX9TyPPiL6HQMzeEx2GML2UrSPf",
      "include_colab_link": true
    },
    "kernelspec": {
      "name": "python3",
      "display_name": "Python 3"
    },
    "language_info": {
      "name": "python"
    }
  },
  "cells": [
    {
      "cell_type": "markdown",
      "metadata": {
        "id": "view-in-github",
        "colab_type": "text"
      },
      "source": [
        "<a href=\"https://colab.research.google.com/github/RChandana/ML/blob/main/Lab_1.ipynb\" target=\"_parent\"><img src=\"https://colab.research.google.com/assets/colab-badge.svg\" alt=\"Open In Colab\"/></a>"
      ]
    },
    {
      "cell_type": "code",
      "execution_count": 11,
      "metadata": {
        "colab": {
          "base_uri": "https://localhost:8080/"
        },
        "id": "2jHXtMxDGR9o",
        "outputId": "6d053fa9-ba50-48fe-d3a3-57daff81e5f2"
      },
      "outputs": [
        {
          "output_type": "stream",
          "name": "stdout",
          "text": [
            "1.21.6\n"
          ]
        }
      ],
      "source": [
        "#Importing NumPy and printing version number\n",
        "\n",
        "import numpy as np\n",
        "print(np.__version__)"
      ]
    },
    {
      "cell_type": "code",
      "source": [
        "#Given are 2 similar dimensional numpy arrays, how to get a numpy array output in which every element is an element-wise sum of the 2 numpy arrays?\n",
        "\n",
        "import numpy as np\n",
        "arr_1 = np.array([10, 20, 30, 40, 50])\n",
        "arr_2 = np.array([60, 70, 80, 90, 100])\n",
        "print(arr_1 + arr_2)\n",
        "print(np.multiply(1, arr_2))"
      ],
      "metadata": {
        "colab": {
          "base_uri": "https://localhost:8080/"
        },
        "id": "3-FC0yIXHKDq",
        "outputId": "03f8a496-7c88-43f0-991f-fd03e3b83977"
      },
      "execution_count": 12,
      "outputs": [
        {
          "output_type": "stream",
          "name": "stdout",
          "text": [
            "[ 70  90 110 130 150]\n",
            "[ 60  70  80  90 100]\n"
          ]
        }
      ]
    },
    {
      "cell_type": "code",
      "source": [
        "# Given a numpy array (matrix), how to get a numpy array output which is equal to the original matrix multiplied by a scalar?\n",
        "\n",
        "array = np.array([1, 2, 3, 4, 5, 6, 7])\n",
        "print([array*5])"
      ],
      "metadata": {
        "colab": {
          "base_uri": "https://localhost:8080/"
        },
        "id": "0kBmREnDNHAT",
        "outputId": "561327ff-93d9-4c3f-98bc-bcb8962468c8"
      },
      "execution_count": 31,
      "outputs": [
        {
          "output_type": "stream",
          "name": "stdout",
          "text": [
            "[array([ 5, 10, 15, 20, 25, 30, 35])]\n"
          ]
        }
      ]
    },
    {
      "cell_type": "code",
      "source": [
        "#How to create an identity  matrix of 5*5 dim?\n",
        "\n",
        "def identity(n) : \n",
        "  identity = [[0 for x in range(n)] for y in range(n)]\n",
        "  for i in range(0, n):\n",
        "    identity[i][i] = 1\n",
        "  return identity\n",
        "print(identity(5)) "
      ],
      "metadata": {
        "colab": {
          "base_uri": "https://localhost:8080/"
        },
        "id": "n3afiL7DHkWw",
        "outputId": "b50e2f8c-eb2d-4fca-ebd4-586b6e7900c7"
      },
      "execution_count": 32,
      "outputs": [
        {
          "output_type": "stream",
          "name": "stdout",
          "text": [
            "[[1, 0, 0, 0, 0], [0, 1, 0, 0, 0], [0, 0, 1, 0, 0], [0, 0, 0, 1, 0], [0, 0, 0, 0, 1]]\n"
          ]
        }
      ]
    },
    {
      "cell_type": "code",
      "source": [
        "# Convert a 1-D array to a 3-D array.\n",
        "\n",
        "import numpy as np\n",
        "array = np.array([10, 20, 30, 40, 50, 60, 70, 80, 90])\n",
        "new_array = array.reshape(3, 3, 1)\n",
        "print(new_array)"
      ],
      "metadata": {
        "colab": {
          "base_uri": "https://localhost:8080/"
        },
        "id": "LYcWOlTOLdLe",
        "outputId": "b1943d53-c177-4957-a765-ee66e2fec187"
      },
      "execution_count": 14,
      "outputs": [
        {
          "output_type": "stream",
          "name": "stdout",
          "text": [
            "[[[10]\n",
            "  [20]\n",
            "  [30]]\n",
            "\n",
            " [[40]\n",
            "  [50]\n",
            "  [60]]\n",
            "\n",
            " [[70]\n",
            "  [80]\n",
            "  [90]]]\n"
          ]
        }
      ]
    },
    {
      "cell_type": "code",
      "source": [
        "# Convert all the elements of a numpy array from float to integer datatype\n",
        "\n",
        "import numpy as np\n",
        "array = np.array([12.6, 220.43, 5.0, 34.40, 65.77, 60, 123.50])\n",
        "print(array.astype(int))"
      ],
      "metadata": {
        "colab": {
          "base_uri": "https://localhost:8080/"
        },
        "id": "fxY446DwMwd_",
        "outputId": "2f51bd02-0262-4c4a-cccd-29efb7f65833"
      },
      "execution_count": 15,
      "outputs": [
        {
          "output_type": "stream",
          "name": "stdout",
          "text": [
            "[ 12 220   5  34  65  60 123]\n"
          ]
        }
      ]
    },
    {
      "cell_type": "code",
      "source": [
        "# Convert a binary numpy array (containing only 0s and 1s) to a boolean numpy array.\n",
        "\n",
        "import numpy as np\n",
        "array = np.array([1, 1, 0, 1, 0, 0, 1, 0, 1, 1, 0, 0, 0, 1, 1])\n",
        "print(array.astype(dtype = bool))"
      ],
      "metadata": {
        "colab": {
          "base_uri": "https://localhost:8080/"
        },
        "id": "2rSxvnDfN4IJ",
        "outputId": "abffd086-b07f-4843-d5b2-ba338a1ddec8"
      },
      "execution_count": 16,
      "outputs": [
        {
          "output_type": "stream",
          "name": "stdout",
          "text": [
            "[ True  True False  True False False  True False  True  True False False\n",
            " False  True  True]\n"
          ]
        }
      ]
    },
    {
      "cell_type": "code",
      "source": [
        "# Stack 2 numpy arrays horizontally i.e., 2 arrays having the same 1st dimension (number of rows in 2D arrays)?\n",
        "\n",
        "arr_1 = np.array([10, 20, 30, 40, 50, 60])\n",
        "arr_2 = np.array([60, 70, 80, 90, 100, 0])\n",
        "print(np.concatenate((arr_1, arr_2)))"
      ],
      "metadata": {
        "colab": {
          "base_uri": "https://localhost:8080/"
        },
        "id": "WH3y7f4yQKsL",
        "outputId": "935442b8-66e0-42da-b6d8-549f89259d93"
      },
      "execution_count": 17,
      "outputs": [
        {
          "output_type": "stream",
          "name": "stdout",
          "text": [
            "[ 10  20  30  40  50  60  60  70  80  90 100   0]\n"
          ]
        }
      ]
    },
    {
      "cell_type": "code",
      "source": [
        "# Stack 2 numpy arrays vertically i.e., 2 arrays having the same last dimension (number of columns in 2D arrays)?\n",
        "\n",
        "arr_1 = np.array([10, 20, 30, 40, 50, 60])\n",
        "arr_2 = np.array([60, 70, 80, 90, 100, 0])\n",
        "print(np.vstack((arr_1, arr_2)))"
      ],
      "metadata": {
        "colab": {
          "base_uri": "https://localhost:8080/"
        },
        "id": "c4ix9MydIzW4",
        "outputId": "92307c24-e47a-459f-e85a-587c74bc1f82"
      },
      "execution_count": 18,
      "outputs": [
        {
          "output_type": "stream",
          "name": "stdout",
          "text": [
            "[[ 10  20  30  40  50  60]\n",
            " [ 60  70  80  90 100   0]]\n"
          ]
        }
      ]
    },
    {
      "cell_type": "code",
      "source": [
        "#Generate a sequence of numbers in the form of a numpy array from 0 to 100 with gaps of 2 numbers, for example: 0, 2, 4 ....?\n",
        "\n",
        "import numpy as np\n",
        "array = np.arange(100)\n",
        "print(array[0 : 100 : 2])"
      ],
      "metadata": {
        "colab": {
          "base_uri": "https://localhost:8080/"
        },
        "id": "Obemqn3ZJM6l",
        "outputId": "5128dc48-2604-4a23-8422-1dffbff6c3fb"
      },
      "execution_count": 19,
      "outputs": [
        {
          "output_type": "stream",
          "name": "stdout",
          "text": [
            "[ 0  2  4  6  8 10 12 14 16 18 20 22 24 26 28 30 32 34 36 38 40 42 44 46\n",
            " 48 50 52 54 56 58 60 62 64 66 68 70 72 74 76 78 80 82 84 86 88 90 92 94\n",
            " 96 98]\n"
          ]
        }
      ]
    },
    {
      "cell_type": "code",
      "source": [
        "#From 2 numpy arrays, extract the indexes in which the elements in the 2 arrays match?\n",
        "\n",
        "import numpy as np\n",
        "arr_1 = np.array([10, 20, 30, 40, 50, 60])\n",
        "arr_2 = np.array([70, 20, 80, 90, 50, 0])\n",
        "x = np.where(arr_1 == arr_2)\n",
        "print(x)"
      ],
      "metadata": {
        "id": "cM3duoSQQ61Q",
        "colab": {
          "base_uri": "https://localhost:8080/"
        },
        "outputId": "3451b7f2-75d4-41c6-95c6-704edf8a28c7"
      },
      "execution_count": 20,
      "outputs": [
        {
          "output_type": "stream",
          "name": "stdout",
          "text": [
            "(array([1, 4]),)\n"
          ]
        }
      ]
    },
    {
      "cell_type": "code",
      "source": [
        "#Output a sequence of equally gapped 5 numbers in the range 0 to 100 (both inclusive)?\n",
        "\n",
        "array = np.arange(101)\n",
        "print(\"The Intial array is : \", array)\n",
        "print(\"\\nThe Final array is :\", array[0:101:5])"
      ],
      "metadata": {
        "colab": {
          "base_uri": "https://localhost:8080/"
        },
        "id": "kSAykmSWFh-I",
        "outputId": "092c9584-44ca-4850-81b1-bc09aead89fa"
      },
      "execution_count": 21,
      "outputs": [
        {
          "output_type": "stream",
          "name": "stdout",
          "text": [
            "The Intial array is :  [  0   1   2   3   4   5   6   7   8   9  10  11  12  13  14  15  16  17\n",
            "  18  19  20  21  22  23  24  25  26  27  28  29  30  31  32  33  34  35\n",
            "  36  37  38  39  40  41  42  43  44  45  46  47  48  49  50  51  52  53\n",
            "  54  55  56  57  58  59  60  61  62  63  64  65  66  67  68  69  70  71\n",
            "  72  73  74  75  76  77  78  79  80  81  82  83  84  85  86  87  88  89\n",
            "  90  91  92  93  94  95  96  97  98  99 100]\n",
            "\n",
            "The Final array is : [  0   5  10  15  20  25  30  35  40  45  50  55  60  65  70  75  80  85\n",
            "  90  95 100]\n"
          ]
        }
      ]
    },
    {
      "cell_type": "code",
      "source": [
        "#Output an array by repeating a smaller array of 2 dimensions, 10 times?\n",
        "\n",
        "array_1 = np.array([10, 20, 30, 40, 50])\n",
        "np.repeat(array_1, 10)"
      ],
      "metadata": {
        "colab": {
          "base_uri": "https://localhost:8080/"
        },
        "id": "AEAdxRfEG84K",
        "outputId": "a7d1a786-c2ba-4f1b-e10a-b13967883a3a"
      },
      "execution_count": 23,
      "outputs": [
        {
          "output_type": "execute_result",
          "data": {
            "text/plain": [
              "array([10, 10, 10, 10, 10, 10, 10, 10, 10, 10, 20, 20, 20, 20, 20, 20, 20,\n",
              "       20, 20, 20, 30, 30, 30, 30, 30, 30, 30, 30, 30, 30, 40, 40, 40, 40,\n",
              "       40, 40, 40, 40, 40, 40, 50, 50, 50, 50, 50, 50, 50, 50, 50, 50])"
            ]
          },
          "metadata": {},
          "execution_count": 23
        }
      ]
    },
    {
      "cell_type": "code",
      "source": [
        "#Output a 3-by-3 array of random numbers following normal distribution\n",
        "\n",
        "array = np.random.random((3, 3, 3))\n",
        "print(\"The random 3X3 array using normal ditrubution is \\n:\", array)"
      ],
      "metadata": {
        "colab": {
          "base_uri": "https://localhost:8080/"
        },
        "id": "Km8p_pO8KAMZ",
        "outputId": "07ff3c6f-e825-4532-ddb2-0f4b53532246"
      },
      "execution_count": 24,
      "outputs": [
        {
          "output_type": "stream",
          "name": "stdout",
          "text": [
            "The random 3X3 array using normal ditrubution is \n",
            ": [[[0.03304528 0.82196719 0.35341205]\n",
            "  [0.86487851 0.40438357 0.92405559]\n",
            "  [0.60043221 0.52552966 0.89443931]]\n",
            "\n",
            " [[0.84633108 0.51553873 0.26955623]\n",
            "  [0.56579486 0.18549477 0.47645078]\n",
            "  [0.29982669 0.68099524 0.18023438]]\n",
            "\n",
            " [[0.42231981 0.52962553 0.65592342]\n",
            "  [0.12328868 0.08413025 0.39975087]\n",
            "  [0.42159085 0.86325149 0.30950838]]]\n"
          ]
        }
      ]
    },
    {
      "cell_type": "code",
      "source": [
        "#Create an 8X3 integer array from a range between 10 to 34 such that the difference between each element is 1 and then Split the array into four equal-sized sub-arrays\n",
        "\n",
        "array = np.arange(10, 34, 1).reshape(8,3) \n",
        "output = np.split(array,4)\n",
        "print(output)"
      ],
      "metadata": {
        "colab": {
          "base_uri": "https://localhost:8080/"
        },
        "id": "sO9vQnzIKZgr",
        "outputId": "8c0fdbf7-7e57-442c-f402-f69c71164afc"
      },
      "execution_count": 25,
      "outputs": [
        {
          "output_type": "stream",
          "name": "stdout",
          "text": [
            "[array([[10, 11, 12],\n",
            "       [13, 14, 15]]), array([[16, 17, 18],\n",
            "       [19, 20, 21]]), array([[22, 23, 24],\n",
            "       [25, 26, 27]]), array([[28, 29, 30],\n",
            "       [31, 32, 33]])]\n"
          ]
        }
      ]
    },
    {
      "cell_type": "code",
      "source": [
        "#Print max from axis 0 and min from axis 1 from a 2-D array?\n",
        "\n",
        "import numpy as np\n",
        "array = np.array([[10, 20, 30], [40, 50, 60], [70, 80, 90]])\n",
        "print(\"Maximum element for axis 0 is : \", np.amax(array, 0))\n",
        "print(\"Minimum element for axis 1 is : \", np.amin(array, 1))"
      ],
      "metadata": {
        "colab": {
          "base_uri": "https://localhost:8080/"
        },
        "id": "254mNVm1KoTe",
        "outputId": "30803ae3-4020-4f5a-c609-c5edfdfdd2c4"
      },
      "execution_count": 27,
      "outputs": [
        {
          "output_type": "stream",
          "name": "stdout",
          "text": [
            "Maximum element for axis 0 is :  [70 80 90]\n",
            "Minimum element for axis 1 is :  [10 40 70]\n"
          ]
        }
      ]
    }
  ]
}