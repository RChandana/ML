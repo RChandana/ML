{
  "nbformat": 4,
  "nbformat_minor": 0,
  "metadata": {
    "colab": {
      "provenance": [],
      "authorship_tag": "ABX9TyN9Yrlv2G+NHVzmilD7pDTD",
      "include_colab_link": true
    },
    "kernelspec": {
      "name": "python3",
      "display_name": "Python 3"
    },
    "language_info": {
      "name": "python"
    }
  },
  "cells": [
    {
      "cell_type": "markdown",
      "metadata": {
        "id": "view-in-github",
        "colab_type": "text"
      },
      "source": [
        "<a href=\"https://colab.research.google.com/github/RChandana/ML/blob/main/Lab_3.ipynb\" target=\"_parent\"><img src=\"https://colab.research.google.com/assets/colab-badge.svg\" alt=\"Open In Colab\"/></a>"
      ]
    },
    {
      "cell_type": "code",
      "execution_count": 2,
      "metadata": {
        "id": "gLSqhd5zRWnB"
      },
      "outputs": [],
      "source": [
        "import numpy as np\n",
        "import pandas as pd"
      ]
    },
    {
      "cell_type": "code",
      "source": [
        "data = pd.read_csv(\"/content/EnjoySport.csv\")\n",
        "print(\"The dataset for Enjoy Sport is : \\n\\n\", data)\n",
        "\n",
        "data2 = pd.read_csv(\"/content/Outing.csv\")\n",
        "print(\"\\n\\nThe dataset for Outing is : \\n\\n\", data2)\n",
        "\n",
        "data3 = pd.read_csv(\"/content/Car_Data.csv\")\n",
        "print(\"\\n\\nThe dataset for Car Manufacturing is : \\n\\n\", data3)"
      ],
      "metadata": {
        "colab": {
          "base_uri": "https://localhost:8080/"
        },
        "id": "qMI_VID232-M",
        "outputId": "e26c4db1-a233-42f7-8357-2ac82be4403e"
      },
      "execution_count": 3,
      "outputs": [
        {
          "output_type": "stream",
          "name": "stdout",
          "text": [
            "The dataset for Enjoy Sport is : \n",
            "\n",
            "       Sky AirTemp Humidity    Wind Water Forecast EnjoySport\n",
            "0  Sunny     warm   normal  Strong  Warm     Same        Yes\n",
            "1  Sunny     warm     high  Strong  Warm     Same        Yes\n",
            "2   Rainy    cold     high  Strong  Warm   Change         No\n",
            "3  Sunny     warm     high  Strong  Cool   Change        Yes\n",
            "\n",
            "\n",
            "The dataset for Outing is : \n",
            "\n",
            "   Weekend Weather Parents Money  Decision\n",
            "0      W1   Sunny     Yes  Rich    Cinema\n",
            "1      W2   Sunny      No  Rich    Tennis\n",
            "2      W3   Windy     Yes  Rich    Cinema\n",
            "3      W4   Rainy     Yes  Poor    Cinema\n",
            "4      W5   Rainy      No  Rich   Stay in\n",
            "5      W6   Rainy    Yes   Poor    Cinema\n",
            "6      W7   Windy      No  Poor    Cinema\n",
            "7      W8   Windy      No  Rich  Shopping\n",
            "8      W9   Windy     Yes  Rich    Cinema\n",
            "9     W10   Sunny      No  Rich    Tennis\n",
            "\n",
            "\n",
            "The dataset for Car Manufacturing is : \n",
            "\n",
            "   Origin Manufacturer   Color  Decade     Type Example Type\n",
            "0  Japan        Honda    Blue    1980  Economy     Positive\n",
            "1  Japan       Toyota   Green    1970    Sport     Negative\n",
            "2  Japan       Toyota    Blue    1990  Economy     Positive\n",
            "3    USA       Toyota     Red    1980  Economy     Negative\n",
            "4  Japan     Chrysler   White    1980  Economy     Positive\n",
            "5  Japan       Toyota  Green     1980  Economy     Positive\n",
            "6  Japan        Honda     Red    1990  Economy     Negative\n"
          ]
        }
      ]
    },
    {
      "cell_type": "code",
      "source": [
        "instances_EnjoySport = np.array(data.iloc[:, 0 : -1])\n",
        "print(\"The Instances of the given dataset are : \\n\\n\", instances_EnjoySport)\n",
        "\n",
        "instances_Outing = np.array(data2.iloc[:, 0 : -1])\n",
        "print(\"\\n\\nThe Instances of the given dataset are : \\n\\n\", instances_Outing)\n",
        "\n",
        "instances_Car = np.array(data3.iloc[:, 0 : -1])\n",
        "print(\"\\n\\nThe Instances of the given dataset are : \\n\\n\", instances_Car)"
      ],
      "metadata": {
        "colab": {
          "base_uri": "https://localhost:8080/"
        },
        "id": "kCOqLPn05ZSH",
        "outputId": "8ca2415e-aaab-4399-9a6e-eafaa4f0befa"
      },
      "execution_count": 4,
      "outputs": [
        {
          "output_type": "stream",
          "name": "stdout",
          "text": [
            "The Instances of the given dataset are : \n",
            "\n",
            " [['Sunny\\xa0' 'warm' 'normal' 'Strong' 'Warm' 'Same']\n",
            " ['Sunny\\xa0' 'warm' 'high' 'Strong' 'Warm' 'Same']\n",
            " ['Rainy' 'cold' 'high' 'Strong' 'Warm' 'Change']\n",
            " ['Sunny\\xa0' 'warm' 'high' 'Strong' 'Cool' 'Change']]\n",
            "\n",
            "\n",
            "The Instances of the given dataset are : \n",
            "\n",
            " [['W1' 'Sunny' 'Yes' 'Rich']\n",
            " ['W2' 'Sunny' 'No' 'Rich']\n",
            " ['W3' 'Windy' 'Yes' 'Rich']\n",
            " ['W4' 'Rainy' 'Yes' 'Poor']\n",
            " ['W5' 'Rainy' 'No' 'Rich']\n",
            " ['W6' 'Rainy' 'Yes ' 'Poor']\n",
            " ['W7' 'Windy' 'No' 'Poor']\n",
            " ['W8' 'Windy' 'No' 'Rich']\n",
            " ['W9' 'Windy' 'Yes' 'Rich']\n",
            " ['W10' 'Sunny' 'No' 'Rich']]\n",
            "\n",
            "\n",
            "The Instances of the given dataset are : \n",
            "\n",
            " [['Japan' 'Honda' 'Blue' 1980 'Economy']\n",
            " ['Japan' 'Toyota' 'Green' 1970 'Sport']\n",
            " ['Japan' 'Toyota' 'Blue' 1990 'Economy']\n",
            " ['USA' 'Toyota' 'Red' 1980 'Economy']\n",
            " ['Japan' 'Chrysler' 'White' 1980 'Economy']\n",
            " ['Japan' 'Toyota' 'Green ' 1980 'Economy']\n",
            " ['Japan' 'Honda' 'Red' 1990 'Economy']]\n"
          ]
        }
      ]
    },
    {
      "cell_type": "code",
      "source": [
        "target_EnjoySport = np.array(data)[:, -1]\n",
        "print(\"The target column for Enjoy Sport is : \\n\", target_EnjoySport)\n",
        "\n",
        "target_Outing = np.array(data2)[:, -1]\n",
        "print(\"\\n\\nThe target column for Outing is : \\n\", target_Outing)\n",
        "\n",
        "target_Car = np.array(data3)[:, -1]\n",
        "print(\"\\n\\nThe target column for Car Macturing is : \\n\", target_Car)"
      ],
      "metadata": {
        "colab": {
          "base_uri": "https://localhost:8080/"
        },
        "id": "FaSAUIK76qGB",
        "outputId": "36defd2c-2673-410c-ff3a-18605a8b5e89"
      },
      "execution_count": 13,
      "outputs": [
        {
          "output_type": "stream",
          "name": "stdout",
          "text": [
            "The target column for Enjoy Sport is : \n",
            " ['Yes' 'Yes' 'No' 'Yes']\n",
            "\n",
            "\n",
            "The target column for Outing is : \n",
            " ['Cinema' 'Tennis' 'Cinema' 'Cinema' 'Stay in' 'Cinema' 'Cinema'\n",
            " 'Shopping' 'Cinema' 'Tennis']\n",
            "\n",
            "\n",
            "The target column for Car Macturing is : \n",
            " ['Positive' 'Negative' 'Positive' 'Negative' 'Positive' 'Positive'\n",
            " 'Negative']\n"
          ]
        }
      ]
    },
    {
      "cell_type": "code",
      "source": [
        "# Implement FIND-S algorithm for the training examples and demonstrate the specific hypothesis.\n",
        "\n",
        "def train_dataset_EnjoySport(c, t) :\n",
        "  for i, value in enumerate(t) : \n",
        "    if value == \"Yes\" : \n",
        "      specific_hypothesis_enjoysport = c[i].copy()\n",
        "      break\n",
        "  \n",
        "  for i, value in enumerate(c) : \n",
        "    if t[i] == \"Yes\" : \n",
        "      for x in range(len(specific_hypothesis_enjoysport)) :\n",
        "        if value[x] != specific_hypothesis_enjoysport[x] : \n",
        "          specific_hypothesis_enjoysport[x] = \"?\"\n",
        "        else : \n",
        "          pass\n",
        "  return specific_hypothesis_enjoysport\n",
        "\n",
        "print(\"The final Hyposthesis of the dataset is : \", train_dataset_EnjoySport(instances_EnjoySport, target_EnjoySport))"
      ],
      "metadata": {
        "colab": {
          "base_uri": "https://localhost:8080/"
        },
        "id": "nW6-Utiw79HA",
        "outputId": "b4b250ce-ee6f-48eb-f4d8-7562cd354c90"
      },
      "execution_count": 14,
      "outputs": [
        {
          "output_type": "stream",
          "name": "stdout",
          "text": [
            "The final Hyposthesis of the dataset is :  ['Sunny\\xa0' 'warm' '?' 'Strong' '?' '?']\n"
          ]
        }
      ]
    },
    {
      "cell_type": "code",
      "source": [
        "# Implement FIND-S algorithm for the training examples.\n",
        "\n",
        "def train_dataset_Outing(c_2, t_2) :\n",
        "  for j, value_2 in enumerate(t_2) : \n",
        "    if value_2 == \"Cinema\" : \n",
        "      specific_hypothesis_outing = c_2[j].copy()\n",
        "      break\n",
        "  \n",
        "  for j, value_2 in enumerate(c_2) : \n",
        "    if t_2[j] == \"Cinema\" : \n",
        "      for y in range(len(specific_hypothesis_outing)) :\n",
        "        if value_2[y] != specific_hypothesis_outing[y] : \n",
        "          specific_hypothesis_outing[y] = \"?\"\n",
        "        else : \n",
        "          pass\n",
        "  return specific_hypothesis_outing\n",
        "\n",
        "print(\"The final Hyposthesis of the dataset is : \", train_dataset_Outing(instances_Outing, target_Outing))"
      ],
      "metadata": {
        "colab": {
          "base_uri": "https://localhost:8080/"
        },
        "id": "UH9cHtJ3-0Rm",
        "outputId": "330b53e4-275f-4a00-cec8-25b0753a63c0"
      },
      "execution_count": 7,
      "outputs": [
        {
          "output_type": "stream",
          "name": "stdout",
          "text": [
            "The final Hyposthesis of the dataset is :  ['?' '?' '?' '?']\n"
          ]
        }
      ]
    },
    {
      "cell_type": "code",
      "source": [
        "# Implement FIND-S algorithm for the training examples.\n",
        "def train_dataset_Car(c_3, t_3) :\n",
        "  for k, value_3 in enumerate( t_3) : \n",
        "    if value_3 == \"Positive\" : \n",
        "      specific_hypothesis_car = c_3[k].copy()\n",
        "      break\n",
        "  \n",
        "  for k, value_3 in enumerate(c_3) : \n",
        "    if  t_3[k] == \"Positive\" : \n",
        "      for z in range(len(specific_hypothesis_car)) :\n",
        "        if value_3[z] != specific_hypothesis_car[z] : \n",
        "          specific_hypothesis_car[z] = \"?\"\n",
        "        else : \n",
        "          pass\n",
        "  return specific_hypothesis_car\n",
        "\n",
        "print(\"The final Hyposthesis of the dataset is : \", train_dataset_Car(instances_Car, target_Car))"
      ],
      "metadata": {
        "colab": {
          "base_uri": "https://localhost:8080/"
        },
        "id": "wfnWLXHBEXJe",
        "outputId": "021625ea-cf9a-4b04-f9c3-90b3dd6b92b2"
      },
      "execution_count": 8,
      "outputs": [
        {
          "output_type": "stream",
          "name": "stdout",
          "text": [
            "The final Hyposthesis of the dataset is :  ['Japan' '?' '?' '?' 'Economy']\n"
          ]
        }
      ]
    },
    {
      "cell_type": "code",
      "source": [
        "# implement and demonstrate the Candidate-Elimination algorithm to output a description of the set of all hypotheses consistent with the training examples.\n",
        "\n",
        "def learn_EnjoySport(instances_EnjoySport, target_EnjoySport) :\n",
        "  specific_hypothesis_enjoysport = instances_EnjoySport[0].copy()\n",
        "  general_hypothesis_enjoysport = [[\"?\" for i in range(len(specific_hypothesis_enjoysport))] for i in range(len(specific_hypothesis_enjoysport))]\n",
        "  for i, h in enumerate(instances_EnjoySport):\n",
        "    if target_EnjoySport[i] == \"Yes\":\n",
        "      for x in range(len(specific_hypothesis_enjoysport)):\n",
        "        if h[x] != specific_hypothesis_enjoysport[x]:\n",
        "          specific_hypothesis_enjoysport[x] = '?'\n",
        "          general_hypothesis_enjoysport[x][x] = '?'\n",
        "          if target_EnjoySport[i] == \"No\":\n",
        "            for x in range(len(specific_hypothesis_enjoysport)):\n",
        "              if h[x] != specific_hypothesis_enjoysport[x]:\n",
        "                general_hypothesis_enjoysport[x][x] = specific_hypothesis_enjoysport[x]\n",
        "              else:\n",
        "                general_hypothesis_enjoysport[x][x] = '?'\n",
        "\n",
        "  indices = [i for i, value in enumerate(general_hypothesis_enjoysport) if value == ['?', '?', '?', '?', '?', '?']]\n",
        "  for i in indices:\n",
        "    general_hypothesis_enjoysport.remove(['?', '?', '?', '?', '?', '?'])\n",
        "  return specific_hypothesis_enjoysport, general_hypothesis_enjoysport\n",
        "s_final, g_final = learn_EnjoySport(instances_EnjoySport, target_EnjoySport)\n",
        "print(\"\\nFinal Specific hypothesis of Enjoy Sport is : \", s_final, sep = \"\\n\")\n",
        "print(\"\\n\\nFinal General hypothesis of Enjoy Sport is : \", g_final, sep = \"\\n\")"
      ],
      "metadata": {
        "colab": {
          "base_uri": "https://localhost:8080/"
        },
        "id": "P9y5PkhTSzch",
        "outputId": "10f5ec18-57a3-4b53-9092-680471ae1e4f"
      },
      "execution_count": 9,
      "outputs": [
        {
          "output_type": "stream",
          "name": "stdout",
          "text": [
            "\n",
            "Final Specific hypothesis of Enjoy Sport is : \n",
            "['Sunny\\xa0' 'warm' '?' 'Strong' '?' '?']\n",
            "\n",
            "\n",
            "Final General hypothesis of Enjoy Sport is : \n",
            "[]\n"
          ]
        }
      ]
    },
    {
      "cell_type": "code",
      "source": [
        "# implement and demonstrate the Candidate-Elimination algorithm to output a description of the set of all hypotheses consistent with the training examples.\n",
        "\n",
        "def learn_Outing(instances_Outing, target_Outing) :\n",
        "  specific_hypothesis_outing = instances_Outing[0].copy()\n",
        "  print(\"specific hypothesis for Outing : \\n\", specific_hypothesis_outing)\n",
        "  general_hypothesis_outing = [[\"?\" for i in range(len(specific_hypothesis_outing))] for i in range(len(specific_hypothesis_outing))]\n",
        "  print(\"general Hypothesis for Outing : \\n\",general_hypothesis_outing)\n",
        "  print(\"Instances :  \\n\", instances_Outing)\n",
        "  for i, h in enumerate(instances_Outing):\n",
        "    if target_Outing[i] == \"Positive\":\n",
        "      for x in range(len(specific_hypothesis_outing)):\n",
        "        if h[x] != specific_hypothesis_outing[x]:\n",
        "          specific_hypothesis_outing[x] = '?'\n",
        "          general_hypothesis_outing[x][x] = '?'\n",
        "          if target_Outing[i] == \"Negative\":\n",
        "            for x in range(len(specific_hypothesis_outing)):\n",
        "              if h[x] != specific_hypothesis_outing[x]:\n",
        "                general_hypothesis_outing[x][x] = specific_hypothesis_outing[x]\n",
        "              else:\n",
        "                general_hypothesis_outing[x][x] = '?'\n",
        "\n",
        "  indices = [i for i, value in enumerate(general_hypothesis_outing) if value == ['?', '?', '?', '?']]\n",
        "  for i in indices:\n",
        "    general_hypothesis_outing.remove(['?', '?', '?', '?'])\n",
        "  return specific_hypothesis_outing, general_hypothesis_outing\n",
        "s_final, g_final = learn_Outing(instances_Outing, target_Outing)\n",
        "print(\"\\nFinal Specific hypothesis of Outing is : \", s_final, sep = \"\\n\")\n",
        "print(\"\\n\\nFinal General hypothesis of Outing is : \", g_final, sep = \"\\n\")"
      ],
      "metadata": {
        "colab": {
          "base_uri": "https://localhost:8080/"
        },
        "id": "LEmbz-i2U8Hh",
        "outputId": "5b41a219-7c7d-424c-f8ab-e639b92c06e0"
      },
      "execution_count": 15,
      "outputs": [
        {
          "output_type": "stream",
          "name": "stdout",
          "text": [
            "specific hypothesis for Outing : \n",
            " ['W1' 'Sunny' 'Yes' 'Rich']\n",
            "general Hypothesis for Outing : \n",
            " [['?', '?', '?', '?'], ['?', '?', '?', '?'], ['?', '?', '?', '?'], ['?', '?', '?', '?']]\n",
            "Instances :  \n",
            " [['W1' 'Sunny' 'Yes' 'Rich']\n",
            " ['W2' 'Sunny' 'No' 'Rich']\n",
            " ['W3' 'Windy' 'Yes' 'Rich']\n",
            " ['W4' 'Rainy' 'Yes' 'Poor']\n",
            " ['W5' 'Rainy' 'No' 'Rich']\n",
            " ['W6' 'Rainy' 'Yes ' 'Poor']\n",
            " ['W7' 'Windy' 'No' 'Poor']\n",
            " ['W8' 'Windy' 'No' 'Rich']\n",
            " ['W9' 'Windy' 'Yes' 'Rich']\n",
            " ['W10' 'Sunny' 'No' 'Rich']]\n",
            "\n",
            "Final Specific hypothesis of Outing is : \n",
            "['W1' 'Sunny' 'Yes' 'Rich']\n",
            "\n",
            "\n",
            "Final General hypothesis of Outing is : \n",
            "[]\n"
          ]
        }
      ]
    },
    {
      "cell_type": "code",
      "source": [
        "# implement and demonstrate the Candidate-Elimination algorithm to output a description of the set of all hypotheses consistent with the training examples.\n",
        "\n",
        "def learn_Car(instances_Car, target_Car) :\n",
        "  specific_hypothesis_car = instances_Car[0].copy()\n",
        "  print(\"specific hypothesis for Car : \\n\", specific_hypothesis_car)\n",
        "  general_hypothesis_car = [[\"?\" for i in range(len(specific_hypothesis_car))] for i in range(len(specific_hypothesis_car))]\n",
        "  print(\"general Hypothesis for Car : \\n\",general_hypothesis_car)\n",
        "  print(\"Instances :  \\n\", instances_Car)\n",
        "  for i, h in enumerate(instances_Car):\n",
        "    if target_Car[i] == \"Cinema\":\n",
        "      for x in range(len(specific_hypothesis_car)):\n",
        "        if h[x] != specific_hypothesis_car[x]:\n",
        "          specific_hypothesis_car[x] = '?'\n",
        "          general_hypothesis_car[x][x] = '?'\n",
        "          if target_Car[i] == \"Shopping\":\n",
        "            for x in range(len(specific_hypothesis_car)):\n",
        "              if h[x] != specific_hypothesis_car[x]:\n",
        "                general_hypothesis_car[x][x] = specific_hypothesis_car[x]\n",
        "              else:\n",
        "                general_hypothesis_car[x][x] = '?'\n",
        "\n",
        "  indices = [i for i, value in enumerate(general_hypothesis_car) if value == ['?', '?', '?', '?', '?']]\n",
        "  for i in indices:\n",
        "    general_hypothesis_car.remove(['?', '?', '?', '?', '?'])\n",
        "  return specific_hypothesis_car, general_hypothesis_car\n",
        "specific_final, general_final = learn_Car(instances_Car, target_Car)\n",
        "print(\"\\nFinal Specific hypothesis of Car is : \", specific_final, sep = \"\\n\")\n",
        "print(\"\\n\\nFinal General hypothesis of Car is : \", general_final, sep = \"\\n\")"
      ],
      "metadata": {
        "colab": {
          "base_uri": "https://localhost:8080/"
        },
        "id": "na1pQcoJU9KC",
        "outputId": "aa3bab08-f7ec-45df-986a-a411e926fc56"
      },
      "execution_count": 11,
      "outputs": [
        {
          "output_type": "stream",
          "name": "stdout",
          "text": [
            "specific hypothesis for Car : \n",
            " ['Japan' 'Honda' 'Blue' 1980 'Economy']\n",
            "general Hypothesis for Car : \n",
            " [['?', '?', '?', '?', '?'], ['?', '?', '?', '?', '?'], ['?', '?', '?', '?', '?'], ['?', '?', '?', '?', '?'], ['?', '?', '?', '?', '?']]\n",
            "Instances :  \n",
            " [['Japan' 'Honda' 'Blue' 1980 'Economy']\n",
            " ['Japan' 'Toyota' 'Green' 1970 'Sport']\n",
            " ['Japan' 'Toyota' 'Blue' 1990 'Economy']\n",
            " ['USA' 'Toyota' 'Red' 1980 'Economy']\n",
            " ['Japan' 'Chrysler' 'White' 1980 'Economy']\n",
            " ['Japan' 'Toyota' 'Green ' 1980 'Economy']\n",
            " ['Japan' 'Honda' 'Red' 1990 'Economy']]\n",
            "\n",
            "Final Specific hypothesis of Car is : \n",
            "['Japan' 'Honda' 'Blue' 1980 'Economy']\n",
            "\n",
            "\n",
            "Final General hypothesis of Car is : \n",
            "[]\n"
          ]
        }
      ]
    },
    {
      "cell_type": "code",
      "source": [
        "\n",
        "  # print(\"Specific hypothesis of Enjoy Sport is : \")\n",
        "  # print(specific_hypothesis_enjoysport, \"\\n\")\n",
        "  # print(\"General hypothesis of Enjoy Sport is : \", \"\\n\")\n",
        "  # print(general_hypothesis_enjoysport)\n",
        "\n",
        "\n",
        "  # print(\"Specific hypothesis of Outing is : \")\n",
        "  # print(specific_hypothesis_outing, \"\\n\")\n",
        "  # print(\"General hypothesis of Outing is : \", \"\\n\")\n",
        "  # print(general_hypothesis_outing)"
      ],
      "metadata": {
        "id": "nyVxJSaBe0so"
      },
      "execution_count": 12,
      "outputs": []
    },
    {
      "cell_type": "code",
      "source": [],
      "metadata": {
        "id": "7d-iI1rJGWhV"
      },
      "execution_count": 12,
      "outputs": []
    }
  ]
}