{
  "nbformat": 4,
  "nbformat_minor": 0,
  "metadata": {
    "colab": {
      "provenance": [],
      "authorship_tag": "ABX9TyObT6X6IpfDjWG4gtxfDY2x",
      "include_colab_link": true
    },
    "kernelspec": {
      "name": "python3",
      "display_name": "Python 3"
    },
    "language_info": {
      "name": "python"
    }
  },
  "cells": [
    {
      "cell_type": "markdown",
      "metadata": {
        "id": "view-in-github",
        "colab_type": "text"
      },
      "source": [
        "<a href=\"https://colab.research.google.com/github/RChandana/ML/blob/main/Lab_2.ipynb\" target=\"_parent\"><img src=\"https://colab.research.google.com/assets/colab-badge.svg\" alt=\"Open In Colab\"/></a>"
      ]
    },
    {
      "cell_type": "code",
      "execution_count": null,
      "metadata": {
        "colab": {
          "base_uri": "https://localhost:8080/"
        },
        "id": "MJUZruOXNrWt",
        "outputId": "5796c290-de86-4d0e-b9f3-3b15099defe9"
      },
      "outputs": [
        {
          "output_type": "stream",
          "name": "stdout",
          "text": [
            "Created Series from a List : \n",
            " 0     M\n",
            "1     A\n",
            "2     C\n",
            "3     H\n",
            "4     I\n",
            "5     N\n",
            "6     E\n",
            "7     L\n",
            "8     A\n",
            "9     N\n",
            "10    G\n",
            "11    U\n",
            "12    A\n",
            "13    G\n",
            "14    E\n",
            "dtype: object\n",
            "Created Series from a Dictionary : \n",
            " M    3\n",
            "A    1\n",
            "C    1\n",
            "H    2\n",
            "I    2\n",
            "N    3\n",
            "E    2\n",
            "dtype: int64\n",
            "Created Series from a Numpy Array : \n",
            " 0     M\n",
            "1     A\n",
            "2     C\n",
            "3     H\n",
            "4     I\n",
            "5     N\n",
            "6     E\n",
            "7     L\n",
            "8     A\n",
            "9     N\n",
            "10    G\n",
            "11    U\n",
            "12    A\n",
            "13    G\n",
            "14    E\n",
            "dtype: object\n"
          ]
        }
      ],
      "source": [
        "# How to create a series from a list, numpy array and dict?\n",
        "import numpy as np\n",
        "import pandas as pd\n",
        "series_to_list = ['M', 'A', 'C', 'H', 'I', 'N', 'E', 'L', 'A', 'N', 'G', 'U', 'A', 'G', 'E']\n",
        "series_to_dict = {'M' : 3, 'A' : 1, 'C' : 1, 'H' : 2, 'I' : 2, 'N' : 3, 'E' : 2}\n",
        "series_to_numpyarray = np.array(['M', 'A', 'C', 'H', 'I', 'N', 'E', 'L', 'A', 'N', 'G', 'U', 'A', 'G', 'E'])\n",
        "\n",
        "series_1 = pd.Series(series_to_list)\n",
        "series_2 = pd.Series(series_to_dict)\n",
        "series_3 = pd.Series(series_to_numpyarray)\n",
        "\n",
        "print(\"Created Series from a List : \\n\", series_1)\n",
        "print(\"Created Series from a Dictionary : \\n\", series_2)\n",
        "print(\"Created Series from a Numpy Array : \\n\", series_3)"
      ]
    },
    {
      "cell_type": "code",
      "source": [
        "# How to combine many series to form a dataframe?\n",
        "\n",
        "import pandas as pd\n",
        "def Series (series_list) : \n",
        "  series_list = pd.Series(series_list)\n",
        "  return series_list\n",
        "\n",
        "employee_name = Series(['Ramesh', 'Chandana', 'Sreya', 'Rahul', 'Mohisha', 'Resshmi'])\n",
        "employee_salary = Series([10000, 23000, 50000, 34000, 54000, 80000])\n",
        "employee_joining_date = Series(['12-Jan', '23-May', '15-Dec', '25-Aug', '30-Oct', '21-April'])\n",
        "\n",
        "data = {\"Name of the employee : \": employee_name,\n",
        "        \"Salary of the Employee : \": employee_salary,\n",
        "        \"Joining date of the employee : \": employee_joining_date}\n",
        "\n",
        "df = pd.concat(data, axis = 1)\n",
        "df"
      ],
      "metadata": {
        "id": "rt-GOmJBOQYu",
        "colab": {
          "base_uri": "https://localhost:8080/",
          "height": 238
        },
        "outputId": "94eec2bb-8e3d-4fa7-82a5-598e3965ac47"
      },
      "execution_count": 5,
      "outputs": [
        {
          "output_type": "execute_result",
          "data": {
            "text/plain": [
              "  Name of the employee :   Salary of the Employee :   \\\n",
              "0                  Ramesh                      10000   \n",
              "1                Chandana                      23000   \n",
              "2                   Sreya                      50000   \n",
              "3                   Rahul                      34000   \n",
              "4                 Mohisha                      54000   \n",
              "5                 Resshmi                      80000   \n",
              "\n",
              "  Joining date of the employee :   \n",
              "0                          12-Jan  \n",
              "1                          23-May  \n",
              "2                          15-Dec  \n",
              "3                          25-Aug  \n",
              "4                          30-Oct  \n",
              "5                        21-April  "
            ],
            "text/html": [
              "\n",
              "  <div id=\"df-af982433-b5e6-4412-b569-7f9dc27a2899\">\n",
              "    <div class=\"colab-df-container\">\n",
              "      <div>\n",
              "<style scoped>\n",
              "    .dataframe tbody tr th:only-of-type {\n",
              "        vertical-align: middle;\n",
              "    }\n",
              "\n",
              "    .dataframe tbody tr th {\n",
              "        vertical-align: top;\n",
              "    }\n",
              "\n",
              "    .dataframe thead th {\n",
              "        text-align: right;\n",
              "    }\n",
              "</style>\n",
              "<table border=\"1\" class=\"dataframe\">\n",
              "  <thead>\n",
              "    <tr style=\"text-align: right;\">\n",
              "      <th></th>\n",
              "      <th>Name of the employee :</th>\n",
              "      <th>Salary of the Employee :</th>\n",
              "      <th>Joining date of the employee :</th>\n",
              "    </tr>\n",
              "  </thead>\n",
              "  <tbody>\n",
              "    <tr>\n",
              "      <th>0</th>\n",
              "      <td>Ramesh</td>\n",
              "      <td>10000</td>\n",
              "      <td>12-Jan</td>\n",
              "    </tr>\n",
              "    <tr>\n",
              "      <th>1</th>\n",
              "      <td>Chandana</td>\n",
              "      <td>23000</td>\n",
              "      <td>23-May</td>\n",
              "    </tr>\n",
              "    <tr>\n",
              "      <th>2</th>\n",
              "      <td>Sreya</td>\n",
              "      <td>50000</td>\n",
              "      <td>15-Dec</td>\n",
              "    </tr>\n",
              "    <tr>\n",
              "      <th>3</th>\n",
              "      <td>Rahul</td>\n",
              "      <td>34000</td>\n",
              "      <td>25-Aug</td>\n",
              "    </tr>\n",
              "    <tr>\n",
              "      <th>4</th>\n",
              "      <td>Mohisha</td>\n",
              "      <td>54000</td>\n",
              "      <td>30-Oct</td>\n",
              "    </tr>\n",
              "    <tr>\n",
              "      <th>5</th>\n",
              "      <td>Resshmi</td>\n",
              "      <td>80000</td>\n",
              "      <td>21-April</td>\n",
              "    </tr>\n",
              "  </tbody>\n",
              "</table>\n",
              "</div>\n",
              "      <button class=\"colab-df-convert\" onclick=\"convertToInteractive('df-af982433-b5e6-4412-b569-7f9dc27a2899')\"\n",
              "              title=\"Convert this dataframe to an interactive table.\"\n",
              "              style=\"display:none;\">\n",
              "        \n",
              "  <svg xmlns=\"http://www.w3.org/2000/svg\" height=\"24px\"viewBox=\"0 0 24 24\"\n",
              "       width=\"24px\">\n",
              "    <path d=\"M0 0h24v24H0V0z\" fill=\"none\"/>\n",
              "    <path d=\"M18.56 5.44l.94 2.06.94-2.06 2.06-.94-2.06-.94-.94-2.06-.94 2.06-2.06.94zm-11 1L8.5 8.5l.94-2.06 2.06-.94-2.06-.94L8.5 2.5l-.94 2.06-2.06.94zm10 10l.94 2.06.94-2.06 2.06-.94-2.06-.94-.94-2.06-.94 2.06-2.06.94z\"/><path d=\"M17.41 7.96l-1.37-1.37c-.4-.4-.92-.59-1.43-.59-.52 0-1.04.2-1.43.59L10.3 9.45l-7.72 7.72c-.78.78-.78 2.05 0 2.83L4 21.41c.39.39.9.59 1.41.59.51 0 1.02-.2 1.41-.59l7.78-7.78 2.81-2.81c.8-.78.8-2.07 0-2.86zM5.41 20L4 18.59l7.72-7.72 1.47 1.35L5.41 20z\"/>\n",
              "  </svg>\n",
              "      </button>\n",
              "      \n",
              "  <style>\n",
              "    .colab-df-container {\n",
              "      display:flex;\n",
              "      flex-wrap:wrap;\n",
              "      gap: 12px;\n",
              "    }\n",
              "\n",
              "    .colab-df-convert {\n",
              "      background-color: #E8F0FE;\n",
              "      border: none;\n",
              "      border-radius: 50%;\n",
              "      cursor: pointer;\n",
              "      display: none;\n",
              "      fill: #1967D2;\n",
              "      height: 32px;\n",
              "      padding: 0 0 0 0;\n",
              "      width: 32px;\n",
              "    }\n",
              "\n",
              "    .colab-df-convert:hover {\n",
              "      background-color: #E2EBFA;\n",
              "      box-shadow: 0px 1px 2px rgba(60, 64, 67, 0.3), 0px 1px 3px 1px rgba(60, 64, 67, 0.15);\n",
              "      fill: #174EA6;\n",
              "    }\n",
              "\n",
              "    [theme=dark] .colab-df-convert {\n",
              "      background-color: #3B4455;\n",
              "      fill: #D2E3FC;\n",
              "    }\n",
              "\n",
              "    [theme=dark] .colab-df-convert:hover {\n",
              "      background-color: #434B5C;\n",
              "      box-shadow: 0px 1px 3px 1px rgba(0, 0, 0, 0.15);\n",
              "      filter: drop-shadow(0px 1px 2px rgba(0, 0, 0, 0.3));\n",
              "      fill: #FFFFFF;\n",
              "    }\n",
              "  </style>\n",
              "\n",
              "      <script>\n",
              "        const buttonEl =\n",
              "          document.querySelector('#df-af982433-b5e6-4412-b569-7f9dc27a2899 button.colab-df-convert');\n",
              "        buttonEl.style.display =\n",
              "          google.colab.kernel.accessAllowed ? 'block' : 'none';\n",
              "\n",
              "        async function convertToInteractive(key) {\n",
              "          const element = document.querySelector('#df-af982433-b5e6-4412-b569-7f9dc27a2899');\n",
              "          const dataTable =\n",
              "            await google.colab.kernel.invokeFunction('convertToInteractive',\n",
              "                                                     [key], {});\n",
              "          if (!dataTable) return;\n",
              "\n",
              "          const docLinkHtml = 'Like what you see? Visit the ' +\n",
              "            '<a target=\"_blank\" href=https://colab.research.google.com/notebooks/data_table.ipynb>data table notebook</a>'\n",
              "            + ' to learn more about interactive tables.';\n",
              "          element.innerHTML = '';\n",
              "          dataTable['output_type'] = 'display_data';\n",
              "          await google.colab.output.renderOutput(dataTable, element);\n",
              "          const docLink = document.createElement('div');\n",
              "          docLink.innerHTML = docLinkHtml;\n",
              "          element.appendChild(docLink);\n",
              "        }\n",
              "      </script>\n",
              "    </div>\n",
              "  </div>\n",
              "  "
            ]
          },
          "metadata": {},
          "execution_count": 5
        }
      ]
    },
    {
      "cell_type": "code",
      "source": [
        "# How to get the items of series A not present in series B?\n",
        "\n",
        "import pandas as pd\n",
        "\n",
        "series_A = pd.Series([2, 4, 6, 8, 10, 12, 14, 16])\n",
        "series_B = pd.Series([1, 3, 5, 7, 9, 11, 14, 13])\n",
        "\n",
        "print(\"\\nItems of series A not present in series B :\")\n",
        "items = series_A[~series_A.isin(series_B)]\n",
        "print(items)"
      ],
      "metadata": {
        "id": "5UJ7ewVxOUkK",
        "colab": {
          "base_uri": "https://localhost:8080/"
        },
        "outputId": "c1387630-f9c2-44c9-ec26-4ec75a2b2189"
      },
      "execution_count": 9,
      "outputs": [
        {
          "output_type": "stream",
          "name": "stdout",
          "text": [
            "\n",
            "Items of series A not present in series B :\n",
            "0     2\n",
            "1     4\n",
            "2     6\n",
            "3     8\n",
            "4    10\n",
            "5    12\n",
            "7    16\n",
            "dtype: int64\n"
          ]
        }
      ]
    },
    {
      "cell_type": "code",
      "source": [
        "# How to get the items not common to both series A and series B?\n",
        "\n",
        "import numpy as np\n",
        "\n",
        "series_A = pd.Series([2, 4, 5, 8, 10, 12, 14, 16])\n",
        "series_B = pd.Series([2, 3, 5, 8, 9, 11, 14, 13])\n",
        "\n",
        "no_common = "
      ],
      "metadata": {
        "id": "xRYW3RPBOY9L"
      },
      "execution_count": 10,
      "outputs": []
    },
    {
      "cell_type": "code",
      "source": [
        "# How to get useful infos"
      ],
      "metadata": {
        "id": "_QXrFeSZOdg8"
      },
      "execution_count": null,
      "outputs": []
    },
    {
      "cell_type": "code",
      "source": [
        "# How to get frequency counts of unique items of a series?"
      ],
      "metadata": {
        "id": "gun2O8akOiPS"
      },
      "execution_count": null,
      "outputs": []
    },
    {
      "cell_type": "code",
      "source": [
        "# How to convert a numpy array to a dataframe of given shape? (L1)"
      ],
      "metadata": {
        "id": "lAr2F93kOmWh"
      },
      "execution_count": null,
      "outputs": []
    },
    {
      "cell_type": "code",
      "source": [
        "# How to find the positions of numbers that are multiples of 3 from a series?"
      ],
      "metadata": {
        "id": "fabZKAuKOroZ"
      },
      "execution_count": null,
      "outputs": []
    },
    {
      "cell_type": "code",
      "source": [
        "# How to extract items at given positions from a series?"
      ],
      "metadata": {
        "id": "NjhvY9q5Oupd"
      },
      "execution_count": null,
      "outputs": []
    },
    {
      "cell_type": "code",
      "source": [
        "# How to stack two series vertically and horizontally ?"
      ],
      "metadata": {
        "id": "EKUIYaV0OyAe"
      },
      "execution_count": null,
      "outputs": []
    },
    {
      "cell_type": "code",
      "source": [
        " # How to get the positions of items of series A in another series B?"
      ],
      "metadata": {
        "id": "3KucCTetOyVy"
      },
      "execution_count": null,
      "outputs": []
    },
    {
      "cell_type": "code",
      "source": [
        "# How to compute difference of differences between consequtive numbers of a series?"
      ],
      "metadata": {
        "id": "Q44bFlZLO6UV"
      },
      "execution_count": null,
      "outputs": []
    },
    {
      "cell_type": "code",
      "source": [
        "# How to convert a series of date-strings to a timeseries?"
      ],
      "metadata": {
        "id": "ECHg1GYtO_7S"
      },
      "execution_count": null,
      "outputs": []
    },
    {
      "cell_type": "code",
      "source": [
        "# How to filter words that contain atleast 2 vowels from a series?"
      ],
      "metadata": {
        "id": "klGtYi4lPHCh"
      },
      "execution_count": null,
      "outputs": []
    },
    {
      "cell_type": "code",
      "source": [
        "# How to replace missing spaces in a string with the least frequent character?"
      ],
      "metadata": {
        "id": "V9kVAc0vPJ48"
      },
      "execution_count": null,
      "outputs": []
    },
    {
      "cell_type": "code",
      "source": [
        "# How to change column values when importing csv to a dataframe?"
      ],
      "metadata": {
        "id": "CO8M7eyAPN-G"
      },
      "execution_count": null,
      "outputs": []
    },
    {
      "cell_type": "code",
      "source": [
        "# How to import only specified columns from a csv file?\n",
        "\n",
        "import pandas as pd\n",
        "Diabetes = pd.read_excel(\"/content/diabetes.csv.xlsx\")\n",
        "Diabetes.to_csv(\"Diabetes_1\")\n",
        "Diabetes.head()"
      ],
      "metadata": {
        "colab": {
          "base_uri": "https://localhost:8080/",
          "height": 206
        },
        "id": "zMHOmLvsPY3l",
        "outputId": "291166da-80c7-4123-91bb-75f2e92a2b99"
      },
      "execution_count": null,
      "outputs": [
        {
          "output_type": "execute_result",
          "data": {
            "text/plain": [
              "   Pregnancies  Glucose  BloodPressure  SkinThickness  Insulin   BMI  \\\n",
              "0          6.0    148.0           72.0           35.0      0.0  33.6   \n",
              "1          1.0     85.0           66.0           29.0      0.0  26.6   \n",
              "2          8.0    183.0           64.0            0.0      0.0  23.3   \n",
              "3          1.0     89.0           66.0           23.0     94.0  28.1   \n",
              "4          0.0    137.0           40.0           35.0    168.0  43.1   \n",
              "\n",
              "   DiabetesPedigreeFunction   Age  Outcome  \n",
              "0                     0.627  50.0      1.0  \n",
              "1                     0.351  31.0      0.0  \n",
              "2                     0.672  32.0      1.0  \n",
              "3                     0.167  21.0      0.0  \n",
              "4                     2.288  33.0      1.0  "
            ],
            "text/html": [
              "\n",
              "  <div id=\"df-b03f2cf2-02e8-42f7-8ad5-981eb4032a51\">\n",
              "    <div class=\"colab-df-container\">\n",
              "      <div>\n",
              "<style scoped>\n",
              "    .dataframe tbody tr th:only-of-type {\n",
              "        vertical-align: middle;\n",
              "    }\n",
              "\n",
              "    .dataframe tbody tr th {\n",
              "        vertical-align: top;\n",
              "    }\n",
              "\n",
              "    .dataframe thead th {\n",
              "        text-align: right;\n",
              "    }\n",
              "</style>\n",
              "<table border=\"1\" class=\"dataframe\">\n",
              "  <thead>\n",
              "    <tr style=\"text-align: right;\">\n",
              "      <th></th>\n",
              "      <th>Pregnancies</th>\n",
              "      <th>Glucose</th>\n",
              "      <th>BloodPressure</th>\n",
              "      <th>SkinThickness</th>\n",
              "      <th>Insulin</th>\n",
              "      <th>BMI</th>\n",
              "      <th>DiabetesPedigreeFunction</th>\n",
              "      <th>Age</th>\n",
              "      <th>Outcome</th>\n",
              "    </tr>\n",
              "  </thead>\n",
              "  <tbody>\n",
              "    <tr>\n",
              "      <th>0</th>\n",
              "      <td>6.0</td>\n",
              "      <td>148.0</td>\n",
              "      <td>72.0</td>\n",
              "      <td>35.0</td>\n",
              "      <td>0.0</td>\n",
              "      <td>33.6</td>\n",
              "      <td>0.627</td>\n",
              "      <td>50.0</td>\n",
              "      <td>1.0</td>\n",
              "    </tr>\n",
              "    <tr>\n",
              "      <th>1</th>\n",
              "      <td>1.0</td>\n",
              "      <td>85.0</td>\n",
              "      <td>66.0</td>\n",
              "      <td>29.0</td>\n",
              "      <td>0.0</td>\n",
              "      <td>26.6</td>\n",
              "      <td>0.351</td>\n",
              "      <td>31.0</td>\n",
              "      <td>0.0</td>\n",
              "    </tr>\n",
              "    <tr>\n",
              "      <th>2</th>\n",
              "      <td>8.0</td>\n",
              "      <td>183.0</td>\n",
              "      <td>64.0</td>\n",
              "      <td>0.0</td>\n",
              "      <td>0.0</td>\n",
              "      <td>23.3</td>\n",
              "      <td>0.672</td>\n",
              "      <td>32.0</td>\n",
              "      <td>1.0</td>\n",
              "    </tr>\n",
              "    <tr>\n",
              "      <th>3</th>\n",
              "      <td>1.0</td>\n",
              "      <td>89.0</td>\n",
              "      <td>66.0</td>\n",
              "      <td>23.0</td>\n",
              "      <td>94.0</td>\n",
              "      <td>28.1</td>\n",
              "      <td>0.167</td>\n",
              "      <td>21.0</td>\n",
              "      <td>0.0</td>\n",
              "    </tr>\n",
              "    <tr>\n",
              "      <th>4</th>\n",
              "      <td>0.0</td>\n",
              "      <td>137.0</td>\n",
              "      <td>40.0</td>\n",
              "      <td>35.0</td>\n",
              "      <td>168.0</td>\n",
              "      <td>43.1</td>\n",
              "      <td>2.288</td>\n",
              "      <td>33.0</td>\n",
              "      <td>1.0</td>\n",
              "    </tr>\n",
              "  </tbody>\n",
              "</table>\n",
              "</div>\n",
              "      <button class=\"colab-df-convert\" onclick=\"convertToInteractive('df-b03f2cf2-02e8-42f7-8ad5-981eb4032a51')\"\n",
              "              title=\"Convert this dataframe to an interactive table.\"\n",
              "              style=\"display:none;\">\n",
              "        \n",
              "  <svg xmlns=\"http://www.w3.org/2000/svg\" height=\"24px\"viewBox=\"0 0 24 24\"\n",
              "       width=\"24px\">\n",
              "    <path d=\"M0 0h24v24H0V0z\" fill=\"none\"/>\n",
              "    <path d=\"M18.56 5.44l.94 2.06.94-2.06 2.06-.94-2.06-.94-.94-2.06-.94 2.06-2.06.94zm-11 1L8.5 8.5l.94-2.06 2.06-.94-2.06-.94L8.5 2.5l-.94 2.06-2.06.94zm10 10l.94 2.06.94-2.06 2.06-.94-2.06-.94-.94-2.06-.94 2.06-2.06.94z\"/><path d=\"M17.41 7.96l-1.37-1.37c-.4-.4-.92-.59-1.43-.59-.52 0-1.04.2-1.43.59L10.3 9.45l-7.72 7.72c-.78.78-.78 2.05 0 2.83L4 21.41c.39.39.9.59 1.41.59.51 0 1.02-.2 1.41-.59l7.78-7.78 2.81-2.81c.8-.78.8-2.07 0-2.86zM5.41 20L4 18.59l7.72-7.72 1.47 1.35L5.41 20z\"/>\n",
              "  </svg>\n",
              "      </button>\n",
              "      \n",
              "  <style>\n",
              "    .colab-df-container {\n",
              "      display:flex;\n",
              "      flex-wrap:wrap;\n",
              "      gap: 12px;\n",
              "    }\n",
              "\n",
              "    .colab-df-convert {\n",
              "      background-color: #E8F0FE;\n",
              "      border: none;\n",
              "      border-radius: 50%;\n",
              "      cursor: pointer;\n",
              "      display: none;\n",
              "      fill: #1967D2;\n",
              "      height: 32px;\n",
              "      padding: 0 0 0 0;\n",
              "      width: 32px;\n",
              "    }\n",
              "\n",
              "    .colab-df-convert:hover {\n",
              "      background-color: #E2EBFA;\n",
              "      box-shadow: 0px 1px 2px rgba(60, 64, 67, 0.3), 0px 1px 3px 1px rgba(60, 64, 67, 0.15);\n",
              "      fill: #174EA6;\n",
              "    }\n",
              "\n",
              "    [theme=dark] .colab-df-convert {\n",
              "      background-color: #3B4455;\n",
              "      fill: #D2E3FC;\n",
              "    }\n",
              "\n",
              "    [theme=dark] .colab-df-convert:hover {\n",
              "      background-color: #434B5C;\n",
              "      box-shadow: 0px 1px 3px 1px rgba(0, 0, 0, 0.15);\n",
              "      filter: drop-shadow(0px 1px 2px rgba(0, 0, 0, 0.3));\n",
              "      fill: #FFFFFF;\n",
              "    }\n",
              "  </style>\n",
              "\n",
              "      <script>\n",
              "        const buttonEl =\n",
              "          document.querySelector('#df-b03f2cf2-02e8-42f7-8ad5-981eb4032a51 button.colab-df-convert');\n",
              "        buttonEl.style.display =\n",
              "          google.colab.kernel.accessAllowed ? 'block' : 'none';\n",
              "\n",
              "        async function convertToInteractive(key) {\n",
              "          const element = document.querySelector('#df-b03f2cf2-02e8-42f7-8ad5-981eb4032a51');\n",
              "          const dataTable =\n",
              "            await google.colab.kernel.invokeFunction('convertToInteractive',\n",
              "                                                     [key], {});\n",
              "          if (!dataTable) return;\n",
              "\n",
              "          const docLinkHtml = 'Like what you see? Visit the ' +\n",
              "            '<a target=\"_blank\" href=https://colab.research.google.com/notebooks/data_table.ipynb>data table notebook</a>'\n",
              "            + ' to learn more about interactive tables.';\n",
              "          element.innerHTML = '';\n",
              "          dataTable['output_type'] = 'display_data';\n",
              "          await google.colab.output.renderOutput(dataTable, element);\n",
              "          const docLink = document.createElement('div');\n",
              "          docLink.innerHTML = docLinkHtml;\n",
              "          element.appendChild(docLink);\n",
              "        }\n",
              "      </script>\n",
              "    </div>\n",
              "  </div>\n",
              "  "
            ]
          },
          "metadata": {},
          "execution_count": 36
        }
      ]
    },
    {
      "cell_type": "code",
      "source": [
        "# How to check if a dataframe has any missing values?"
      ],
      "metadata": {
        "id": "TbQisL39PcII"
      },
      "execution_count": null,
      "outputs": []
    },
    {
      "cell_type": "code",
      "source": [
        "# How to replace missing values of multiple numeric columns with the mean?"
      ],
      "metadata": {
        "id": "Wofbs3cPPffa"
      },
      "execution_count": null,
      "outputs": []
    },
    {
      "cell_type": "code",
      "source": [
        "# How to change the order of columns of a dataframe?"
      ],
      "metadata": {
        "id": "t6RiEFXhPiqL"
      },
      "execution_count": null,
      "outputs": []
    },
    {
      "cell_type": "code",
      "source": [
        "# How to change the order of columns of a dataframe?"
      ],
      "metadata": {
        "id": "pR17lF0lPmgM"
      },
      "execution_count": null,
      "outputs": []
    },
    {
      "cell_type": "code",
      "source": [
        "# How to filter every nth row in a dataframe?"
      ],
      "metadata": {
        "id": "W0uCrEhFQE-1"
      },
      "execution_count": null,
      "outputs": []
    },
    {
      "cell_type": "code",
      "source": [
        "# How to get the last n rows of a dataframe with row sum > 100?"
      ],
      "metadata": {
        "id": "za_HZzdwQIS9"
      },
      "execution_count": null,
      "outputs": []
    },
    {
      "cell_type": "code",
      "source": [
        "# How to find and cap outliers from a series or dataframe column?"
      ],
      "metadata": {
        "id": "NdOV1DnFQPQD"
      },
      "execution_count": null,
      "outputs": []
    },
    {
      "cell_type": "code",
      "source": [
        "# How to reverse the rows of a dataframe?"
      ],
      "metadata": {
        "id": "2Q8sIprKQWxS"
      },
      "execution_count": null,
      "outputs": []
    }
  ]
}